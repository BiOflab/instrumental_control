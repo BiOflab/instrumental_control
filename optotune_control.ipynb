{
 "cells": [
  {
   "cell_type": "code",
   "execution_count": null,
   "id": "703ebd8a",
   "metadata": {},
   "outputs": [],
   "source": [
    "from ctypes import *\n",
    "import numpy as np\n",
    "import matplotlib.pyplot as plt\n",
    "from IPython.display import clear_output\n",
    "from tkinter import *\n",
    "from PIL import ImageTk, Image\n",
    "import cv2\n",
    "from tifffile import imsave\n",
    "import os\n",
    "import time\n",
    "import ctypes\n",
    "import ctypes.wintypes\n",
    "import optoMDC\n",
    "\n",
    "\n",
    "mre2 = optoMDC.connect()\n",
    "mre2.Mirror.Channel_0.SetControlMode(optoMDC.Units.XY)\n",
    "mre2.Mirror.Channel_1.SetControlMode(optoMDC.Units.XY)   \n",
    "\n",
    "\n",
    "x3=-0.05\n",
    "y3=-0.06\n",
    "mre2.Mirror.Channel_0.StaticInput.SetXY(x3)   \n",
    "mre2.Mirror.Channel_1.StaticInput.SetXY(y3)  \n",
    "\n",
    "\n",
    "def move_up():\n",
    "    yy=mre2.Mirror.Channel_1.StaticInput.GetXY()\n",
    "    yy1=np.array(yy,dtype=float)\n",
    "    mre2.Mirror.Channel_1.StaticInput.SetXY(yy1+0.015)\n",
    "    \n",
    "def move_down():\n",
    "    yy=mre2.Mirror.Channel_1.StaticInput.GetXY()\n",
    "    yy1=np.array(yy,dtype=float)\n",
    "    mre2.Mirror.Channel_1.StaticInput.SetXY(yy1-0.015)    \n",
    "\n",
    "def move_left():\n",
    "    xx=mre2.Mirror.Channel_0.StaticInput.GetXY()\n",
    "    xx1=np.array(xx,dtype=float)\n",
    "    mre2.Mirror.Channel_0.StaticInput.SetXY(xx1+0.015)\n",
    "    \n",
    "def move_right():\n",
    "    xx=mre2.Mirror.Channel_0.StaticInput.GetXY()\n",
    "    xx1=np.array(xx,dtype=float)\n",
    "    mre2.Mirror.Channel_0.StaticInput.SetXY(xx1-0.015)        \n",
    "    \n",
    "    \n",
    "    \n",
    "    "
   ]
  }
 ],
 "metadata": {
  "kernelspec": {
   "display_name": "Python 3 (ipykernel)",
   "language": "python",
   "name": "python3"
  },
  "language_info": {
   "codemirror_mode": {
    "name": "ipython",
    "version": 3
   },
   "file_extension": ".py",
   "mimetype": "text/x-python",
   "name": "python",
   "nbconvert_exporter": "python",
   "pygments_lexer": "ipython3",
   "version": "3.9.5"
  }
 },
 "nbformat": 4,
 "nbformat_minor": 5
}
